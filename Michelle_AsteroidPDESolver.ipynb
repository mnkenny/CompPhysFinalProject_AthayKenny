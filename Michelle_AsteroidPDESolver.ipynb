{
 "cells": [
  {
   "cell_type": "code",
   "execution_count": 1,
   "id": "2b8dfc51",
   "metadata": {
    "scrolled": true
   },
   "outputs": [],
   "source": [
    "# Import Modules Needed\n",
    "\n",
    "import numpy as np\n",
    "import matplotlib.pyplot as plt\n",
    "import scipy\n",
    "import numpy.testing as npt\n",
    "from scipy.special import erfc\n",
    "from PIL import Image as im \n",
    "from matplotlib import animation, rc\n",
    "plt.rc('animation', html='jshtml')\n",
    "from IPython.display import HTML\n",
    "import subprocess as sp\n",
    "import sys,math\n",
    "import sympy as sym\n",
    "import matplotlib.font_manager\n",
    "from IPython.core.display import HTML\n",
    "def make_html(fontname):\n",
    "    return \"<p>{font}: <span style='font-family:{font}; font-size: 24px;'>{font}</p>\".format(font=fontname)\n",
    "code = \"\\n\".join([make_html(font) for font in sorted(set([f.name for f in matplotlib.font_manager.fontManager.ttflist]))])\n",
    "# HTML(\"<div style='column-count: 2;'>{}</div>\".format(code))"
   ]
  },
  {
   "cell_type": "markdown",
   "id": "ce8bc478",
   "metadata": {},
   "source": [
    "# 1 - Stokes Second Problem\n",
    "We have recast the Stokes seond problem into one that involves the diffusion of heat through an asteroid rather than momentum through a fluid. We have further simplified the problem by considering only one spatial dimension. The z axis is perpendicular to the surface of the asteroid and the ground is perfectly flat. Futher more, we are assuming the asteroid composition is horizontally invarient so that the temperature depends only on time $t$, and depth $z$, so that $T = T(z,t)$. Under these assumptions the temperature obeys the 1D diffusion equation,\n",
    "\\begin{equation}\n",
    "    \\frac{\\partial T}{\\partial t} = \\kappa \\frac{\\partial^2 T}{\\partial z^2}. \\label{eq1}\\tag{1a}\n",
    "\\end{equation}\n",
    "where $\\kappa$ is the thermal diffusivity of the asteroid.\n",
    "\n",
    "### *Numerical Approach*\n",
    "We now use finite differencing to step equation \\ref{eq1} forward in time. Taking the left hand side we approximate $\\frac{\\partial T}{\\partial t}$ using a forward Euler approach so that\n",
    "\\\\[\n",
    "\\frac{\\partial T}{\\partial t}(z_n,t_i)=\\frac{ T(z_n,t_{i+1}) - T(z_n,t_i)}{\\Delta t}, \\label{eq2}\\tag{2a}\n",
    "\\\\]\n",
    "where $z_n$ is the current spatial cell, $z_{n+1}$ and $z_{n-1}$ would be neighboring spatial cells, $t_i$ is the current time, $t_{i+1}$ is the time we want to solve for, and $\\Delta t = t_{i+1} - t_i$. Higher order terms have been dropped. \n",
    "For the right hand side of Eq. \\ref{eq1}  we use centered differencing which yields\n",
    "\\\\[\n",
    "\\kappa\\frac{\\partial^2 T}{\\partial z^2}(z_n,t_i)=\\kappa\\frac{ T(z_{n+1},t_i) + T(z_{n-1},t_i) - 2T(z_n,t_i)}{\\Delta z^2},    \\label{eq3}\\tag{3a} \n",
    "\\\\] \n",
    "where we have again dropped the higher order terms. Setting both sides equal and rearranging to solve for $T(z_n,t_{i+1})$ gives us\n",
    "\\\\[\n",
    "  T(z_n,t_{i+1}) = D(T(z_{n+1},t_i) + T(z_{n-1},t_i)) + (1-2D)T(z_n,t_i), \\qquad D=\\frac{\\kappa\\Delta t}{\\Delta z^2}.\n",
    "\\\\]\n",
    "\n",
    "Stability analysis requires that $D \\leq 0.5$.\n",
    "\n",
    "### *Solutions*\n",
    " - **Infinite Sized Asteroid, $z_{max}<< D$:**<br>\n",
    "If we assume the asteroid is large enough that the heat can not penetrate from one side to the other then we can say that $T(z_{max},t) = 0$ where $z_{max}$ is some large depth into the asteroid but $z_{max} << D$, the diameter of the asteroid. \n",
    "In this case the diffusion equation has well known and exact solutions for different boundary conditions at $z = 0$. For a constant heat source, the temperature profile will develop overtime according to,\n",
    "\\begin{equation}\n",
    "    T(z,t)=T_0(1 - erf(\\frac{z}{2 \\sqrt{\\kappa t}})). \\label{eq4}\\tag{4a}\n",
    "\\end{equation}\n",
    "For a purely sinusoidal source, the temperature profile will develope according to \n",
    "\\begin{equation}\n",
    "    T(z,t)=T_0e^{-\\alpha z} cos(\\alpha z - \\omega t), \\qquad \\alpha = \\sqrt{\\frac{\\omega}{2\\kappa}}. \\label{eq5}\\tag{5a}\n",
    "\\end{equation}\n",
    "Equations \\ref{eq4} and  \\ref{eq5} will be used to verify our numerical approach to solving Eq. \\ref{eq1} \n",
    "\n",
    "\n",
    " - **Finite Sized Asteroid, $z_{max} > D$:**<br>\n",
    "We use our numerical solution to solve for the temperature evolution of a finite sized asteroid recieving heat from the sun as the asteroid rotates. In this set up both boundaries have a sinusoidal source of heat and can radiate heat when the temperature at either boundary is greater than the incoming source.\n",
    "Accounting for radiative loss Eq. \\ref{eq1} is,\n",
    "\\begin{align}\n",
    "    \\frac{\\partial T}{\\partial t} = \\kappa \\frac{\\partial^2 T}{\\partial z^2} - \\frac{\\mu\\kappa}{K}(T_b^4 - S^4), \\label{eq6}\\tag{6a}\n",
    "\\end{align}\n",
    "where $\\mu$ depends on physical charachteristics of the asteroid, $K$ is the thermal conductivity, and $S$ is the temperature of the source. Equation \\ref{eq6} will only apply to the boundaries according to,\n",
    "\\begin{align}\n",
    "T(z_0,t_{i+1} = T(z_1,t_{i+1}) -  \\frac{\\mu}{c_p\\rho}(T(z_1,t_{i+1})^4 - T(z_0,t_{i+1})^4),\\qquad & \\qquad T(z_1,t_{i+1}) >  T(z_1,t_{i+1}) \\\\\n",
    "T(z_N,t_{i+1} = T(z_{N-1},t_{i+1}) -  \\frac{\\mu}{c_p\\rho}(T(z_{N-1},t_{i+1})^4 - T(z_N,t_{i+1})^4), \\qquad & \\qquad T(z_{N-1},t_{i+1}) >  T(z_N,t_{i+1}). \n",
    "\\end{align}\n",
    "\n",
    "### *Physical dimensions and Problem Parameters*\n",
    "The diffusion equation is easier in a non-dimensional form,\n",
    "\\begin{equation}\n",
    "    \\frac{\\partial T}{\\partial t^{\\ast}} = \\frac{\\kappa t_c}{z_c^2} \\frac{\\partial^2 T}{\\partial z^{\\ast 2}}, \n",
    "\\end{equation}\n",
    "where we have,\n",
    "\\begin{align}\n",
    "t = t_ct^{\\ast}& \\\\\n",
    "z = z_cz^{\\ast}.\n",
    "\\end{align}\n",
    "$t_c$ and $z_c$ are charachteristic time and length scales. Choosing $\\kappa t_c / z_c^2 \\;=\\;1$ leads to $t_c = z_c^2/\\kappa$, our diffusion time scale.\n",
    "\n",
    "**The choices made here for $\\kappa$, $\\mu$, and $K$ are rather non-physical**<br>\n",
    "**Needs more explanation**"
   ]
  },
  {
   "cell_type": "markdown",
   "id": "19b24a78",
   "metadata": {},
   "source": [
    "# PDEsolve\n",
    "\n",
    "The code for this project is contained in the file `PDEsolve.py`. The primary function is a class function named pde_solver which contains all the functions used. The doc string for pde_solver and its different functions are in the cells below.\n",
    "\n"
   ]
  },
  {
   "cell_type": "code",
   "execution_count": 2,
   "id": "8c00be75",
   "metadata": {},
   "outputs": [],
   "source": [
    "from PDEsolve import *"
   ]
  },
  {
   "cell_type": "code",
   "execution_count": 3,
   "id": "90c94669",
   "metadata": {},
   "outputs": [],
   "source": [
    "?pde_solver"
   ]
  },
  {
   "cell_type": "code",
   "execution_count": 4,
   "id": "1ae94b36",
   "metadata": {},
   "outputs": [],
   "source": [
    "?pde_solver.numerical"
   ]
  },
  {
   "cell_type": "code",
   "execution_count": null,
   "id": "9c5db48a",
   "metadata": {},
   "outputs": [],
   "source": [
    "?pde_solver.numerical_const"
   ]
  },
  {
   "cell_type": "code",
   "execution_count": null,
   "id": "90c2d0b5",
   "metadata": {},
   "outputs": [],
   "source": [
    "?pde_solver.numerical_plus_radiative"
   ]
  },
  {
   "cell_type": "code",
   "execution_count": null,
   "id": "6b8a6dd1",
   "metadata": {},
   "outputs": [],
   "source": [
    "?pde_solver.analytic"
   ]
  },
  {
   "cell_type": "code",
   "execution_count": null,
   "id": "f57110d3",
   "metadata": {},
   "outputs": [],
   "source": [
    "?pde_solver.analytic_const"
   ]
  },
  {
   "cell_type": "markdown",
   "id": "2b8fa180",
   "metadata": {},
   "source": [
    "# Testing Suite"
   ]
  },
  {
   "cell_type": "code",
   "execution_count": 8,
   "id": "a025a5f8",
   "metadata": {},
   "outputs": [
    {
     "name": "stdout",
     "output_type": "stream",
     "text": [
      "Step size: dt = 1.28e-05\n"
     ]
    }
   ],
   "source": [
    "##TEST CONDITIONS 1: t1\n",
    "t1 = pde_solver(zp=5,dz=0.008,zc=1,cf=0.4,tp=1,kappa=1,omegap=15, T0=1,mu=1,k_th=4)\n",
    "\n",
    "#Constant heat source\n",
    "t1.numerical_const()\n",
    "t1.analytic_const()\n",
    "\n",
    "#sinusoidal heat source\n",
    "t1.numerical(double=False)\n",
    "t1.analytic()"
   ]
  },
  {
   "cell_type": "code",
   "execution_count": 9,
   "id": "99237c4b",
   "metadata": {},
   "outputs": [
    {
     "name": "stdout",
     "output_type": "stream",
     "text": [
      "Test 1 at tp = 0.50, Test 2 at tp = 0.60, Test 3 at tp = 0.80, Test 4 at tp = 0.90\n"
     ]
    }
   ],
   "source": [
    "ind=np.arange(10)*t1.Nt/10\n",
    "a,b,c,d=int(ind[5]),int(ind[6]),int(ind[8]),int(ind[9])\n",
    "\n",
    "print('Test 1 at tp = {:.2f}, Test 2 at tp = {:.2f}, Test 3 at tp = {:.2f}, Test 4 at tp = {:.2f}'.format(\n",
    "t1.tp[a],t1.tp[b],t1.tp[c],t1.tp[d]))\n",
    "npt.assert_allclose(t1.T_const[a,:], t1.T_const_sol[a,:], atol=1e-3)\n",
    "npt.assert_allclose(t1.T_const[b,:], t1.T_const_sol[b,:], atol=1e-3)\n",
    "npt.assert_allclose(t1.T_const[c,:], t1.T_const_sol[c,:], atol=1e-3)\n",
    "npt.assert_allclose(t1.T_const[d,:], t1.T_const_sol[d,:], atol=1e-3)\n",
    "\n",
    "npt.assert_allclose(t1.T[a,:], t1.T_sol[a,:], atol=5e-3)\n",
    "npt.assert_allclose(t1.T[b,:], t1.T_sol[b,:], atol=5e-3)\n",
    "npt.assert_allclose(t1.T[c,:], t1.T_sol[c,:], atol=5e-3)\n",
    "npt.assert_allclose(t1.T[d,:], t1.T_sol[d,:], atol=5e-3)"
   ]
  },
  {
   "cell_type": "markdown",
   "id": "b56e199e",
   "metadata": {},
   "source": [
    "### Plot Comparison\n",
    "\n",
    "Visually, we can see that the numerical solution agrees with the analytic solution. In the figure below the analytic solution is plotted in tesolid lines while the numerical solution shown in scatter plot."
   ]
  },
  {
   "cell_type": "code",
   "execution_count": 41,
   "id": "6313f869",
   "metadata": {
    "scrolled": false
   },
   "outputs": [
    {
     "data": {
      "image/png": "[encoded data removed]",
      "text/plain": [
       "<Figure size 576x360 with 1 Axes>"
      ]
     },
     "metadata": {
      "needs_background": "light"
     },
     "output_type": "display_data"
    }
   ],
   "source": [
    "p=1\n",
    "font = {'fontsize':16*p, 'weight':'normal'}\n",
    "font2 = {'fontsize':18*p, 'weight':'normal'}\n",
    "font3 = {'fontsize':22*p, 'weight':'normal'}\n",
    "plt.rc('font',family='Times New Roman')\n",
    "plt.figure(figsize=(8,5))\n",
    "plt.plot(t1.tp,t1.T_const_sol[:,150],color='red',lw=2,ls='-',\n",
    "         label='$z^{\\\\ast} = $'+'{:1.0f}'.format(t1.zp[150]))\n",
    "plt.plot(t1.tp,t1.T_const_sol[:,300],color='green',lw=2,ls='-',\n",
    "         label='$z^{\\\\ast} = $'+'{:1.0f}'.format(t1.zp[300]))\n",
    "plt.plot(t1.tp,t1.T_const_sol[:,450],color='darkblue',lw=2,ls='-',\n",
    "         label='$z^{\\\\ast} = $'+'{:1.0f}'.format(t1.zp[450]))\n",
    "plt.plot(t1.tp,t1.T_const_sol[:,600],color='purple',lw=2,ls='-',\n",
    "         label='$z^{\\\\ast} = $'+'{:1.0f}'.format(t1.zp[600]))\n",
    "\n",
    "plt.scatter(t1.tp[::2000],t1.T_const[::2000,150],color='red',marker = 'o',s=40)\n",
    "plt.scatter(t1.tp[::2000],t1.T_const[::2000,300],color='green',marker = 'o',s=40)\n",
    "plt.scatter(t1.tp[::2000],t1.T_const[::2000,450],color='darkblue',marker = 'o',s=40)\n",
    "plt.scatter(t1.tp[::2000],t1.T_const[::2000,600],color='purple',marker = 'o',s=40)\n",
    "plt.title('Constant Boundary',**font3)\n",
    "plt.xticks(**font2)\n",
    "plt.yticks(**font2)\n",
    "plt.tick_params(length=8*p)\n",
    "plt.tick_params(length=5*p,which='minor')\n",
    "plt.ylabel('$T$',**font3)\n",
    "plt.xlabel('$t^{\\\\ast}$',**font3)\n",
    "plt.legend(loc=0,ncol=1,prop={'size':18*p},frameon=False)\n",
    "plt.grid()\n",
    "plt.show()\n",
    "plt.close()\n",
    "\n",
    "########################################\n",
    "\n",
    "# plt.figure(figsize=(10,10))\n",
    "# plt.plot(t1.tp,t1.T_sol[:,200],color='red',lw=2,ls='-',\n",
    "#          label='$z^{\\\\ast} = $'+'{:1.0f}'.format(t1.zp[200]))\n",
    "# plt.plot(t1.tp,t1.T_sol[:,300],color='green',lw=2,ls='-',\n",
    "#          label='$z^{\\\\ast} = $'+'{:1.0f}'.format(t1.zp[300]))\n",
    "# plt.plot(t1.tp,t1.T_sol[:,450],color='darkblue',lw=2,ls='-',\n",
    "#          label='$z^{\\\\ast} = $'+'{:1.0f}'.format(t1.zp[450]))\n",
    "# plt.plot(t1.tp,t1.T_sol[:,600],color='purple',lw=2,ls='-',\n",
    "#          label='$z^{\\\\ast} = $'+'{:1.0f}'.format(t1.zp[600]))\n",
    "\n",
    "# plt.scatter(t1.tp[10::2000],t1.T[10::2000,200],color='red',marker = 'o',s=40)\n",
    "# plt.scatter(t1.tp[10::2000],t1.T[10::2000,300],color='green',marker = 'o',s=40)\n",
    "# plt.scatter(t1.tp[10::2000],t1.T[10::2000,450],color='darkblue',marker = 'o',s=40)\n",
    "# plt.scatter(t1.tp[10::2000],t1.T[10::2000,600],color='purple',marker = 'o',s=40)\n",
    "# plt.title('Sinusoidal Boundary',**font3)\n",
    "# plt.xticks(**font2)\n",
    "# plt.yticks(**font2)\n",
    "# plt.tick_params(length=8*p)\n",
    "# plt.tick_params(length=5*p,which='minor')\n",
    "# plt.ylabel('$T$',**font3)\n",
    "# plt.xlabel('$t^{\\\\ast}$',**font3)\n",
    "# plt.legend(loc=0,ncol=1,prop={'size':18*p},frameon=False)\n",
    "# plt.grid()\n",
    "# plt.show()\n",
    "# plt.close()"
   ]
  },
  {
   "cell_type": "markdown",
   "id": "85c27715",
   "metadata": {},
   "source": [
    "# Physical Results and Discussion"
   ]
  },
  {
   "cell_type": "code",
   "execution_count": null,
   "id": "3dbb0136",
   "metadata": {
    "scrolled": false
   },
   "outputs": [],
   "source": [
    "plt.pcolormesh(test1.t,test1.zp,test1.T.T,vmin=-0.5,vmax=0.5, cmap='rainbow',shading='auto')\n",
    "plt.ylim(0,2)\n",
    "plt.ylabel('Length'); plt.xlabel('Time')\n",
    "plt.colorbar()\n",
    "plt.title( 'Numerical Solution,zc={}, kappa = {} '.format(test1.zc,test1.kappa),size=12)\n",
    "plt.show()\n",
    "plt.close()\n",
    "\n",
    "plt.pcolormesh(test1.t,test1.zp,test1.T_sol.T,vmin=-0.5,vmax=0.5, cmap='rainbow',shading='auto')\n",
    "plt.ylim(0,2)\n",
    "plt.ylabel('Length'); plt.xlabel('Time')\n",
    "plt.colorbar()\n",
    "plt.title('Analytic Solution,zc={}, kappa = {} '.format(test2.zc,test2.kappa),size=12)\n",
    "plt.show()\n",
    "plt.close()\n",
    "\n",
    "# plt.pcolormesh(s2.t,s2.z,s2.T_rad.T,vmin=0,vmax=2, cmap='rainbow',shading='auto')\n",
    "# #plt.ylim(0,1)\n",
    "# plt.ylabel('Length'); plt.xlabel('Time')\n",
    "# plt.colorbar()\n",
    "# plt.title('Const Numerical Solution,zc={}, kappa = {} '.format(s2.zc,s2.kappa),size=12)\n",
    "# plt.show()\n",
    "# plt.close()"
   ]
  },
  {
   "cell_type": "code",
   "execution_count": null,
   "id": "ba82fc24",
   "metadata": {},
   "outputs": [],
   "source": [
    "plt.figure(figsize=(20,5))\n",
    "plt.pcolormesh(s2.t,s2.z,s2.T.T,vmin=0,vmax=2, cmap='rainbow',shading='auto')\n",
    "#plt.xlim(0,1)\n",
    "plt.ylabel('Length'); plt.xlabel('Time')\n",
    "plt.colorbar()\n",
    "plt.title(' Numerical Solution,zp = 100, kappa = {} '.format(s2.kappa),size=12)\n",
    "plt.show()\n",
    "plt.close()\n",
    "\n",
    "plt.figure(figsize=(20,5))\n",
    "plt.pcolormesh(s2.t,s2.z,s2.T_rad.T,vmin=0,vmax=2, cmap='rainbow',shading='auto')\n",
    "#plt.xlim(0,1)\n",
    "plt.ylabel('Length'); plt.xlabel('Time')\n",
    "plt.colorbar()\n",
    "plt.title('Radiative numerical Solution,zp = 100, kappa = {} '.format(s2.kappa),size=12)\n",
    "plt.show()\n",
    "plt.close()\n",
    "# plt.plot(s2.tp,s2.Tc_sol[:,100],c='blue')\n",
    "# plt.scatter(s2.tp[0::1000],s2.Tc[0::1000,100],color='red')\n",
    "# plt.show()\n",
    "# plt.close()\n",
    "#np.testing.assert_allclose(s2.Tc[:,ind], s2.Tc_sol[:,ind], atol=1e-2)"
   ]
  },
  {
   "cell_type": "code",
   "execution_count": null,
   "id": "51a1e417",
   "metadata": {
    "scrolled": false
   },
   "outputs": [],
   "source": [
    "# Plotting\n",
    "\n",
    "ratio=1#0.01*solve.Nt/solve.Nz\n",
    "\n",
    "#print ('Radiative loss:',solve.d)\n",
    "#print(\"diffusion term\",solve.r)\n",
    "#plt.figure(figsize=(8,8))\n",
    "#plt.pcolormesh(solve2.T.T,vmin=0,vmax=6,aspect=ratio,origin='lower',extent=(0,solve.t_tot,0,solve.L))\n",
    "#plt.ylabel('Length'); plt.xlabel('Time')\n",
    "#plt.title('Numerical Solution, kappa = {} '.format(solve2.kappa),size=12)\n",
    "#plt.colorbar()\n",
    "#plt.show()\n",
    "# plt.figure(figsize=(8,8))\n",
    "# plt.pcolormesh(solve.tp,solve.zp,solve.T.T,vmin=0,vmax=4,  cmap='rainbow',shading='auto')\n",
    "# plt.ylabel('Length'); plt.xlabel('Time')\n",
    "# plt.colorbar()\n",
    "# plt.title('Numerical Solution, kappa = {} '.format(solve.kappa),size=12)\n",
    "# plt.show()\n",
    "# plt.close()\n",
    "\n",
    "# plt.figure(figsize=(8,8))\n",
    "# plt.pcolormesh(solve.tp,solve.zp,solve.TR.T,vmin=0,vmax=4,  cmap='rainbow', shading='auto')#aspect=ratio,origin='lower',extent=(0,1,0,1))\n",
    "# plt.ylabel('Length'); plt.xlabel('Time')\n",
    "# plt.colorbar()\n",
    "# plt.title('Numerical Radiative Solution, kappa = {} '.format(solve.kappa),size=12)\n",
    "# plt.show()\n",
    "# plt.close()\n",
    "\n",
    "# plt.figure(figsize=(8,8))\n",
    "# plt.pcolormesh(solve.tp,solve.zp,solve.T_sol.T,vmin=0,vmax=4,  cmap='rainbow',shading='auto')# aspect=ratio,origin='lower',extent=(0,1,0,1))\n",
    "# plt.ylabel('Length'); plt.xlabel('Time')\n",
    "# plt.colorbar()\n",
    "# plt.title('Analytic Solution, kappa = {} '.format(solve.kappa),size=12)\n",
    "# plt.show()\n",
    "# plt.close()\n",
    "\n",
    "# plt.figure(figsize=(8,8))\n",
    "# plt.pcolormesh(solve.tp,solve.zp,solve.Tc.T,vmin=0,vmax=1, cmap='rainbow', shading='auto')# aspect=ratio,origin='lower',extent=(0,1,0,1))\n",
    "# plt.ylabel('Length'); plt.xlabel('Time')\n",
    "# plt.colorbar()\n",
    "# plt.title('Const Numerical Solution, kappa = {} '.format(solve.kappa),size=12)\n",
    "# plt.show()\n",
    "# plt.close()\n",
    "\n",
    "plt.figure(figsize=(8,8))\n",
    "plt.pcolormesh(solve2.tp,solve2.zp,solve2.Tc.T,vmin=0,vmax=1, cmap='rainbow',shading='auto')\n",
    "plt.ylim(0,1)\n",
    "plt.ylabel('Length'); plt.xlabel('Time')\n",
    "plt.colorbar()\n",
    "plt.title('Const Numerical Solution,zp = 100, kappa = {} '.format(solve2.kappa),size=12)\n",
    "plt.show()\n",
    "plt.close()\n",
    "\n",
    "plt.figure(figsize=(8,8))\n",
    "plt.pcolormesh(solve2.tp,solve2.zp,solve2.Tc_sol.T,vmin=0,vmax=1, cmap='rainbow',shading='auto')\n",
    "plt.ylim(0,1)\n",
    "plt.ylabel('Length'); plt.xlabel('Time')\n",
    "plt.colorbar()\n",
    "plt.title('Const AnalyticSolution,zp = 100, kappa = {} '.format(solve2.kappa),size=12)\n",
    "plt.show()\n",
    "plt.close()\n",
    "\n",
    "#plt.figure(figsize=(8,8))\n",
    "#plt.pcolormesh(solve.TR.T,vmin=0,vmax=2,  aspect=ratio,origin='lower',extent=(0,solve.t_tot,0,solve.L))\n",
    "#plt.ylabel('Length'); plt.xlabel('Time')\n",
    "#plt.colorbar()\n",
    "\n",
    "#plt.title('Radiative Numerical Solution, kappa = {} '.format(solve.kappa),size=12)\n",
    "#plt.show()\n",
    "plt.plot(solve2.tp,solve2.Tc_sol[:,100],c='blue')\n",
    "plt.scatter(solve2.tp[0::1000],solve2.Tc[0::1000,100],color='red')\n",
    "\n",
    "#plt.plot(solve2.tp,solve2.Tc_sol[:,300],c='blue')\n",
    "#plt.scatter(solve2.tp[0::1000],solve2.Tc[0::1000,300],color='red')\n",
    "\n",
    "#plt.plot(solve2.tp,solve2.Tc_sol[:,500],c='blue')\n",
    "#plt.scatter(solve2.tp[0::1000],solve2.Tc[0::1000,500],color='red')\n",
    "# plt.figure(figsize=(8,8))\n",
    "# plt.pcolormesh(solve.tp,solve.zp,solve.Tc_sol.T,vmin=0,vmax=1,   cmap='rainbow',shading='auto')#aspect=ratio,origin='lower',extent=(0,1,0,1))\n",
    "# plt.ylabel('Length'); plt.xlabel('Time')\n",
    "# plt.colorbar()\n",
    "# plt.title('Const Analytic Solution, kappa = {} '.format(solve.kappa),size=12)\n",
    "# plt.show()\n",
    "# plt.close()\n",
    "#plt.plot(solve.T[:,-1],color='k')\n",
    "#plt.plot(solve.T[:,-2],color='red')\n",
    "#plt.plot(solve.T[:,-3],color='blue')\n",
    "#plt.ylim(0.6,1)\n",
    "#plt.grid()"
   ]
  },
  {
   "cell_type": "code",
   "execution_count": null,
   "id": "7569a4b3",
   "metadata": {},
   "outputs": [],
   "source": [
    "z0=0#int(len(solve.z)/5)\n",
    "#plt.plot(solve.t,solve.T_R[:,z0],label='Analytic Solution R')#marker='o',size=20\n",
    "#plt.plot(solve.t,solve.T_L[:,z0],label='Analytic Solution L')#marker='o',size=20\n",
    "plt.plot(solve.t,solve.T[:,z0],label='Numerical Solution')\n",
    "plt.plot(solve.t,solve.T_sol[:,z0],label='Analytic Solution')#marker='o',size=20\n",
    "plt.legend(loc=0,ncol=1,prop={'size':12},frameon=False)\n",
    "plt.grid()\n",
    "plt.show()"
   ]
  },
  {
   "cell_type": "markdown",
   "id": "5fb8ebd9",
   "metadata": {},
   "source": [
    "## Exploring Parameter Space"
   ]
  },
  {
   "cell_type": "code",
   "execution_count": null,
   "id": "bb641df7",
   "metadata": {},
   "outputs": [],
   "source": []
  }
 ],
 "metadata": {
  "kernelspec": {
   "display_name": "Python 3 (ipykernel)",
   "language": "python",
   "name": "python3"
  },
  "language_info": {
   "codemirror_mode": {
    "name": "ipython",
    "version": 3
   },
   "file_extension": ".py",
   "mimetype": "text/x-python",
   "name": "python",
   "nbconvert_exporter": "python",
   "pygments_lexer": "ipython3",
   "version": "3.9.9"
  }
 },
 "nbformat": 4,
 "nbformat_minor": 5
}
